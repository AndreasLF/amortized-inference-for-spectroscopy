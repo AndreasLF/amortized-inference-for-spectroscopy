{
 "cells": [
  {
   "cell_type": "code",
   "execution_count": 1,
   "metadata": {},
   "outputs": [
    {
     "name": "stderr",
     "output_type": "stream",
     "text": [
      "c:\\Users\\andre\\OneDrive - Danmarks Tekniske Universitet\\Bachelorprojekt\\Code\\bachelor-project\\lib\\site-packages\\tqdm\\auto.py:21: TqdmWarning: IProgress not found. Please update jupyter and ipywidgets. See https://ipywidgets.readthedocs.io/en/stable/user_install.html\n",
      "  from .autonotebook import tqdm as notebook_tqdm\n",
      "C:\\Users\\andre\\AppData\\Local\\Temp\\ipykernel_3620\\1071115275.py:17: MatplotlibDeprecationWarning: The seaborn styles shipped by Matplotlib are deprecated since 3.6, as they no longer correspond to the styles shipped by seaborn. However, they will remain available as 'seaborn-v0_8-<style>'. Alternatively, directly use the seaborn API instead.\n",
      "  plt.style.use('seaborn-whitegrid')\n"
     ]
    }
   ],
   "source": [
    "%load_ext autoreload\n",
    "%autoreload 2\n",
    "from paths import *\n",
    "\n",
    "from matplotlib import pyplot as plt\n",
    "import torch\n",
    "from src.SERS_dataset import IterDataset\n",
    "from src.generate_data2 import pseudoVoigtSimulatorTorch\n",
    "from src.plotting.save_plot import save_plot\n",
    "from src.plotting.VAE_plotting import plot_losses_3_2, plt_recons_with_dist, plt_sigma_as_func_of_alpha_and_c, plot_kernels, slide_kernel_over_signal\n",
    "# import make_axes_locatable\n",
    "import numpy as np\n",
    "import dill\n",
    "import io\n",
    "\n",
    "# matplotlib style seaborn-whitegrid\n",
    "plt.style.use('seaborn-whitegrid')\n",
    "\n",
    "device = 'cuda' if torch.cuda.is_available() else 'cpu'\n",
    "cuda = torch.cuda.is_available()"
   ]
  },
  {
   "cell_type": "code",
   "execution_count": 2,
   "metadata": {},
   "outputs": [],
   "source": [
    "# load model that has been trained on GPU on CPU. Source https://github.com/pytorch/pytorch/issues/16797\n",
    "class CPU_Unpickler(dill.Unpickler):\n",
    "    def find_class(self, module, name):\n",
    "        if module == 'torch.storage' and name == '_load_from_bytes':\n",
    "            return lambda b: torch.load(io.BytesIO(b), map_location='cpu')\n",
    "        else: return super().find_class(module, name)\n",
    "\n",
    "def load_dill(file_name, experiment):\n",
    "    file_name = os.path.join(results_dir, experiment, file_name)\n",
    "    with open(file_name, 'rb') as f:\n",
    "        contents = CPU_Unpickler(f).load()\n",
    "    autoencoder = contents[\"model\"]\n",
    "    train_loss = contents[\"train_loss\"]\n",
    "    generator_num = contents[\"generator\"]\n",
    "\n",
    "    return autoencoder, train_loss, generator_num"
   ]
  },
  {
   "cell_type": "code",
   "execution_count": 3,
   "metadata": {},
   "outputs": [],
   "source": [
    "model_name = \"curious-deluge-703\"\n",
    "# model_name = \"radiant-sponge-688\"\n",
    "autoencoder, train_loss, generator_num = load_dill(f\"{model_name}.dill\", \"3_3_VAE_voigt_decoder_CNN\")"
   ]
  },
  {
   "cell_type": "code",
   "execution_count": 7,
   "metadata": {},
   "outputs": [
    {
     "name": "stdout",
     "output_type": "stream",
     "text": [
      "0.31558096\n",
      "0.3155528\n"
     ]
    }
   ],
   "source": [
    "ps = pseudoVoigtSimulatorTorch(500)\n",
    "generator = ps.predefined_generator(generator_num)\n",
    "dset_train = IterDataset(generator)\n",
    "train_loader = torch.utils.data.DataLoader(dset_train, batch_size=100, pin_memory=cuda)\n",
    "\n",
    "loss = []\n",
    "loss_mu = []\n",
    "\n",
    "for i in range(10):\n",
    "    x, y = next(iter(train_loader))\n",
    "    x = x.to(device)\n",
    "    y = y.to(device)\n",
    "    z, mu, logvar = autoencoder.encode(x)\n",
    "    sigma = torch.exp(0.5 * logvar)\n",
    "    x_hat = autoencoder.decode(z)\n",
    "    x_hat_mu = autoencoder.decode(mu)\n",
    "\n",
    "    x = x.cpu().detach().numpy()\n",
    "    x_hat = x_hat.cpu().detach().numpy()\n",
    "    x_hat_mu = x_hat_mu.cpu().detach().numpy()\n",
    "    sigma = sigma.cpu().detach().numpy()\n",
    "    mu = mu.cpu().detach().numpy()\n",
    "    z = z.cpu().detach().numpy()\n",
    "\n",
    "\n",
    "    loss.append(np.mean((x - x_hat)**2, axis=1).mean())\n",
    "    loss_mu.append(np.mean((x - x_hat_mu)**2, axis=1).mean())\n",
    "\n",
    "print(np.mean(loss))\n",
    "print(np.mean(loss_mu))"
   ]
  },
  {
   "cell_type": "code",
   "execution_count": 10,
   "metadata": {},
   "outputs": [],
   "source": [
    "plot =  plot_losses_3_2(train_loss, 3, width_in_cm=14.5)\n",
    "save_plot(plot, os.path.join(report_dir, \"figures\", \"results\", \"3_VAE_voigt_CNN\", \"vae_voigt_CNN_losses\"), [\"pdf\", \"png\"])\n",
    "\n",
    "# print first 6 sigmas\n",
    "print(sigma[:6,0])\n",
    "# x, x_hat_mu, mu, sigma, y, generator_num, w, h\n",
    "plot = plt_recons_with_dist(x, x_hat_mu, mu, sigma, y, 3, 2, 2, width_in_cm=14.5)\n",
    "save_plot(plot, os.path.join(report_dir, \"figures\", \"results\", \"3_VAE_voigt_CNN\", \"vae_voigt_CNN_reconstructions\"), [\"pdf\", \"png\"])\n",
    "\n",
    "plot = plot_kernels(autoencoder, layer_num=0, width_in_cm=14.5)\n",
    "save_plot(plot, os.path.join(report_dir, \"figures\", \"results\", \"3_VAE_voigt_CNN\", \"vae_voigt_CNN_kernels\"), [\"pdf\", \"png\"])\n",
    "\n",
    "plot = slide_kernel_over_signal(autoencoder, x[0], layer_num=0, width_in_cm=14.5)\n",
    "save_plot(plot, os.path.join(report_dir, \"figures\", \"results\", \"3_VAE_voigt_CNN\", \"vae_voigt_CNN_kernel_on_signal\"), [\"pdf\", \"png\"])\n",
    "\n",
    "plot = plt_sigma_as_func_of_alpha_and_c(mu, sigma, y, width_in_cm=10)\n",
    "save_plot(plot, os.path.join(report_dir, \"figures\", \"results\", \"3_VAE_voigt_CNN\", \"vae_voigt_CNN_sigmaf\"), [\"pdf\", \"png\"])\n"
   ]
  }
 ],
 "metadata": {
  "kernelspec": {
   "display_name": "bachelor-project",
   "language": "python",
   "name": "python3"
  },
  "language_info": {
   "codemirror_mode": {
    "name": "ipython",
    "version": 3
   },
   "file_extension": ".py",
   "mimetype": "text/x-python",
   "name": "python",
   "nbconvert_exporter": "python",
   "pygments_lexer": "ipython3",
   "version": "3.10.10"
  },
  "orig_nbformat": 4
 },
 "nbformat": 4,
 "nbformat_minor": 2
}
