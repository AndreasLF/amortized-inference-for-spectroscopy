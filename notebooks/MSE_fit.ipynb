{
 "cells": [
  {
   "attachments": {},
   "cell_type": "markdown",
   "metadata": {},
   "source": [
    "Imports"
   ]
  },
  {
   "cell_type": "code",
   "execution_count": 819,
   "metadata": {},
   "outputs": [
    {
     "name": "stderr",
     "output_type": "stream",
     "text": [
      "C:\\Users\\andre\\AppData\\Local\\Temp\\ipykernel_15840\\4169636792.py:13: MatplotlibDeprecationWarning: The seaborn styles shipped by Matplotlib are deprecated since 3.6, as they no longer correspond to the styles shipped by seaborn. However, they will remain available as 'seaborn-v0_8-<style>'. Alternatively, directly use the seaborn API instead.\n",
      "  plt.style.use('seaborn-whitegrid')\n"
     ]
    }
   ],
   "source": [
    "from paths import *\n",
    "from src.SERS_dataset import IterDataset\n",
    "from src.generate_data2 import pseudoVoigtSimulatorTorch\n",
    "from sklearn.preprocessing import StandardScaler\n",
    "import torch \n",
    "from matplotlib import pyplot as plt\n",
    "import numpy as np\n",
    "from src.plotting.save_plot import save_plot\n",
    "import dill\n",
    "import io\n",
    "import time\n",
    "# matplotlib style seaborn-whitegrid\n",
    "plt.style.use('seaborn-whitegrid')\n",
    "\n",
    "device = 'cuda' if torch.cuda.is_available() else 'cpu'\n",
    "cuda = torch.cuda.is_available()"
   ]
  },
  {
   "attachments": {},
   "cell_type": "markdown",
   "metadata": {},
   "source": [
    "Define helper function to calculate pseudo-voigt"
   ]
  },
  {
   "cell_type": "code",
   "execution_count": 820,
   "metadata": {},
   "outputs": [],
   "source": [
    "def f(a=None, c=None):\n",
    "    ps = pseudoVoigtSimulatorTorch(500)\n",
    "    peaks = c if c else torch.tensor([250/500], device=device)\n",
    "    gamma = torch.tensor([20], device=device) \n",
    "    eta = torch.tensor([0.5], device=device)\n",
    "    alpha = a if a else torch.tensor([5], device=device)\n",
    "    pv = ps.decoder(peaks, gamma, eta, alpha, wavenumber_normalize=True, height_normalize=True, batch_size=1)\n",
    "    return pv.flatten()\n"
   ]
  },
  {
   "attachments": {},
   "cell_type": "markdown",
   "metadata": {},
   "source": [
    "Define data simulator"
   ]
  },
  {
   "cell_type": "code",
   "execution_count": 822,
   "metadata": {},
   "outputs": [],
   "source": [
    "ps = pseudoVoigtSimulatorTorch(500)\n",
    "generator = ps.predefined_generator(3)"
   ]
  },
  {
   "attachments": {},
   "cell_type": "markdown",
   "metadata": {},
   "source": [
    "Do gradient descent with different starting values on 100 different data samples"
   ]
  },
  {
   "cell_type": "code",
   "execution_count": 419,
   "metadata": {},
   "outputs": [
    {
     "name": "stdout",
     "output_type": "stream",
     "text": [
      "Batch number:  0\n",
      "Batch number:  10\n",
      "Batch number:  20\n",
      "Batch number:  30\n",
      "Batch number:  40\n",
      "Batch number:  50\n",
      "Batch number:  60\n",
      "Batch number:  70\n",
      "Batch number:  80\n",
      "Batch number:  90\n"
     ]
    }
   ],
   "source": [
    "data = {}\n",
    "batch_size = 100\n",
    "for bn in range(batch_size):\n",
    "    x, y = next(generator)\n",
    "    true_a = x[3].item()\n",
    "    true_c = x[0].item()\n",
    "\n",
    "    values = []\n",
    "    good_estimate = []\n",
    "    mses = []\n",
    "    times = []\n",
    "    steps_to_converge = []\n",
    "    ac = []\n",
    "    aer = np.linspace(0.01, 10, 5)\n",
    "    cs = np.linspace(0.01, 1, 10)\n",
    "\n",
    "    # make tuples of all combinations of a and c\n",
    "    ac = [(a, c) for a in aer for c in cs]\n",
    "\n",
    "    converged = [False]*len(ac)\n",
    "\n",
    "    for j, (a_,c_) in enumerate(ac): \n",
    "        time_start = time.time()\n",
    "\n",
    "        a = torch.tensor([a_], requires_grad=True, device=device)\n",
    "        c = torch.tensor([c_], requires_grad=True, device=device)\n",
    "        i= 0\n",
    "        vals = []\n",
    "        while True:\n",
    "            x_hat = f(a, c)\n",
    "            MSE = torch.mean((x - x_hat)**2)\n",
    "            mses.append(MSE.item())\n",
    "            MSE.backward()\n",
    "\n",
    "            # print(MSE.item())\n",
    "\n",
    "\n",
    "            if i > 1 and abs(mses[-1] - mses[-2]) < 1e-5:\n",
    "            # if torch.abs(a.grad) < 1e-5 and c.grad < 1e-3:\n",
    "                # print(\"Converged at i: \", i)\n",
    "                converged[j] = True\n",
    "                break\n",
    "\n",
    "            with torch.no_grad():\n",
    "                # print(\"alpha: \", a.grad.item(), \"c: \", c.grad.item()/500)\n",
    "                a -= a.grad\n",
    "                c -= c.grad/500\n",
    "                c.grad.zero_()\n",
    "                a.grad.zero_()\n",
    "            vals.append((a.item(), c.item()))\n",
    "\n",
    "            if i > 1000:\n",
    "                break\n",
    "\n",
    "            i +=1\n",
    "        \n",
    "        time_end = time.time()\n",
    "        # print(\"a: \", a.item(), \"c: \", c.item())\n",
    "        times.append(time_end - time_start)\n",
    "        steps_to_converge.append(i)\n",
    "        good_estimate.append(abs(a.item() - y[3].item()) < 0.1 and abs(c.item() - y[0].item()/500) < 0.01)\n",
    "        values.append(vals)\n",
    "\n",
    "    if bn % 10 == 0:\n",
    "        print(\"Batch: \", bn)\n",
    "    data[(true_a, true_c)] = {'values': values, 'good_estimate': good_estimate, 'mses': mses, \n",
    "                              'times': times, 'steps_to_converge': steps_to_converge, \n",
    "                              'converged': converged}"
   ]
  },
  {
   "attachments": {},
   "cell_type": "markdown",
   "metadata": {},
   "source": [
    "Evaluate results"
   ]
  },
  {
   "cell_type": "code",
   "execution_count": 818,
   "metadata": {},
   "outputs": [
    {
     "name": "stdout",
     "output_type": "stream",
     "text": [
      "Percentage of good estimates:  0.12\n",
      "Mean time to converge:  0.6394912118911742\n",
      "Mean time to converge for good estimates:  0.6449589001504997\n",
      "Mean steps to converge:  410.87199999999996\n",
      "Mean steps to converge for good estimates:  420.0526315789474\n",
      "How many converged?:  0.6199999999999999\n"
     ]
    }
   ],
   "source": [
    "sum(good_estimate)/len(good_estimate)\n",
    "\n",
    "avg_good_estimate = []\n",
    "avg_time = []\n",
    "avg_good_times = []\n",
    "avg_steps = []\n",
    "avg_good_steps = []\n",
    "avg_converged = []\n",
    "\n",
    "for key, val in data.items():\n",
    "    avg_good_estimate.append(sum(val['good_estimate'])/len(val['good_estimate'])) \n",
    "    times = val['times']\n",
    "    good_times = [t for (t, g) in zip(times, good_estimate) if g]\n",
    "\n",
    "    avg_time.append(np.mean(times))\n",
    "\n",
    "    # calc average good times, but disregard any empty list\n",
    "    if len(good_times) > 0:\n",
    "        avg_good_times.append(np.mean(good_times))\n",
    "    avg_steps.append(np.mean(val['steps_to_converge']))\n",
    "\n",
    "    good_steps = [s for (s, g) in zip(val['steps_to_converge'], good_estimate) if g]\n",
    "    if len(good_steps) > 0:\n",
    "\n",
    "        avg_good_steps.append(np.mean(good_steps))\n",
    "    avg_converged.append(sum(val['converged'])/len(val['converged']))\n",
    "\n",
    "\n",
    "print(\"Percentage of good estimates: \", np.mean(avg_good_estimate))\n",
    "print(\"Mean time to converge: \", np.mean(avg_time))\n",
    "print(\"Mean time to converge for good estimates: \", np.mean(avg_good_times))\n",
    "print(\"Mean steps to converge: \", np.mean(avg_steps))\n",
    "print(\"Mean steps to converge for good estimates: \", np.mean(avg_good_steps))\n",
    "print(\"How many converged?: \", np.mean(avg_converged))"
   ]
  },
  {
   "attachments": {},
   "cell_type": "markdown",
   "metadata": {},
   "source": [
    "Save to file "
   ]
  },
  {
   "cell_type": "code",
   "execution_count": 454,
   "metadata": {},
   "outputs": [],
   "source": [
    "baseline_results_dir = os.path.join(results_dir, '0_baseline')\n",
    "\n",
    "with open(f'{baseline_results_dir}/MSE_fit_data.dill', 'wb') as file:\n",
    "    dill.dump(data, file)"
   ]
  },
  {
   "attachments": {},
   "cell_type": "markdown",
   "metadata": {},
   "source": [
    "Run gradient descent with two starting point (optimal vs. suboptimal)"
   ]
  },
  {
   "cell_type": "code",
   "execution_count": 840,
   "metadata": {},
   "outputs": [],
   "source": [
    "y = torch.tensor([[180.4312], [20.0000],[0.5000],[2.6245]])\n",
    "ps = pseudoVoigtSimulatorTorch(500)\n",
    "x = ps.generate_full_spectrum(y[0], y[1], y[2], y[3], height_normalize=True, wavenumber_normalize=True)"
   ]
  },
  {
   "cell_type": "code",
   "execution_count": 841,
   "metadata": {},
   "outputs": [
    {
     "name": "stdout",
     "output_type": "stream",
     "text": [
      "Converged at i:  30\n",
      "a:  0.19184736907482147 c:  0.1272716373205185\n",
      "8.286296844482422 0.30309210205078124\n",
      "Converged at i:  28\n",
      "a:  2.6278202533721924 c:  0.3573199510574341\n",
      "8.286296844482422 0.30309210205078124\n"
     ]
    }
   ],
   "source": [
    "values = []\n",
    "good_estimate = []\n",
    "mses = []\n",
    "ac = []\n",
    "\n",
    "start_a =torch.tensor([4.5], requires_grad=True, device=device)\n",
    "start_c = torch.tensor([0.1], requires_grad=True, device=device)\n",
    "\n",
    "ac.append((start_a, start_c))\n",
    "\n",
    "start_a =torch.tensor([6.], requires_grad=True, device=device)\n",
    "start_c = torch.tensor([0.4], requires_grad=True, device=device)\n",
    "\n",
    "ac.append((start_a, start_c))\n",
    "\n",
    "for (a,c) in ac: \n",
    "    i= 0\n",
    "    vals = []\n",
    "    while True:\n",
    "        x_hat = f(a, c)\n",
    "        MSE = torch.mean((x - x_hat)**2)\n",
    "        mses.append(MSE.item())\n",
    "        MSE.backward()\n",
    "\n",
    "        # print(MSE.item())\n",
    "\n",
    "\n",
    "        if i > 1 and abs(mses[-1] - mses[-2]) < 1e-4:\n",
    "        # if torch.abs(a.grad) < 1e-5 and c.grad < 1e-3:\n",
    "            print(\"Converged at i: \", i)\n",
    "            break\n",
    "\n",
    "        with torch.no_grad():\n",
    "            # print(\"alpha: \", a.grad.item(), \"c: \", c.grad.item()/500)\n",
    "            a -= a.grad\n",
    "            c -= c.grad/500\n",
    "            c.grad.zero_()\n",
    "            a.grad.zero_()\n",
    "        vals.append((a.item(), c.item()))\n",
    "\n",
    "        if i > 10000:\n",
    "            break\n",
    "\n",
    "        i +=1\n",
    "    print(\"a: \", a.item(), \"c: \", c.item())\n",
    "    good_estimate.append(abs(a.item() - y[3].item()) < 0.1 and abs(c.item() - y[0].item()/500) < 0.01)\n",
    "    values.append(vals)\n",
    "    print(true_a, true_c)"
   ]
  },
  {
   "attachments": {},
   "cell_type": "markdown",
   "metadata": {},
   "source": [
    "Plot gradient steps and convergence point"
   ]
  },
  {
   "cell_type": "code",
   "execution_count": 857,
   "metadata": {},
   "outputs": [
    {
     "data": {
      "image/png": "[encoded data removed]",
      "text/plain": [
       "<Figure size 1000x500 with 4 Axes>"
      ]
     },
     "metadata": {},
     "output_type": "display_data"
    }
   ],
   "source": [
    "\n",
    "true_a = y[3].item()\n",
    "true_c = y[0].item()/500\n",
    "x_ = f(torch.tensor([true_a]), torch.tensor([true_c]))\n",
    "\n",
    "# rcparams colors \n",
    "colors = plt.rcParams['axes.prop_cycle'].by_key()['color']\n",
    "# plot mse for different alpha and c values gradient plot \n",
    "a_lin = torch.linspace(-0.1, 10.1, 100)\n",
    "c_lin = torch.linspace(-0.02, 1.02, 100)\n",
    "A, C = torch.meshgrid(a_lin, c_lin)\n",
    "mse = torch.zeros_like(A)\n",
    "for i in range(A.shape[0]):\n",
    "    for j in range(A.shape[1]):\n",
    "        mse[i, j] = torch.mean((x_ - f(A[i, j], C[i, j]))**2)\n",
    "\n",
    "fig, axs = plt.subplots(1, 2, figsize=(10, 5))\n",
    "\n",
    "for i, vals in enumerate(values):\n",
    "    ax = axs[i]\n",
    "    contour_plot = ax.contourf(A, C, mse, levels=40 ,cmap=\"viridis\")\n",
    "    ax.set_xlabel(\"$\\\\alpha$\")\n",
    "    ax.set_ylabel(\"$c$\")\n",
    "    ax.set_title(\"Gradient descent \" + (\"(suboptimal)\" if i == 0 else \"(optimal)\"))\n",
    "    # colorbar on the right\n",
    "    fig.colorbar(contour_plot, ax=ax)\n",
    "    # color bar text    \n",
    "    ax.text(13.0, 0.5, \"MSE\", rotation=90, va=\"center\", ha=\"right\")\n",
    "    # plot point of convergence\n",
    "    # true_a = true_y[3]\n",
    "    # true_c = true_y[0]\n",
    "    ax.scatter(true_a, true_c, color=colors[2], label=\"True value\")\n",
    "    # ax.scatter(a.detach().numpy(), c.detach().numpy(), color=colors[4], label=\"Converged value\", marker=\"x\")\n",
    "    # draw line segments between points in vals\n",
    "    for i in range(len(vals)-1):\n",
    "        ax.plot([vals[i][0], vals[i+1][0]], [vals[i][1], vals[i+1][1]], color=colors[4], linestyle=\"-\", alpha=0.7, label=\"Gradient step\" if i == 0 else None)\n",
    "        ax.scatter(vals[i][0], vals[i][1], color=colors[4], s=2, alpha=0.7)\n",
    "\n",
    "    ax.scatter(vals[-1][0], vals[-1][1], color=colors[4], label=\"Converged value\", marker=\"x\")\n",
    "\n",
    "    # legend \n",
    "    ax.legend(frameon=True)\n",
    "\n",
    "plt.tight_layout()\n",
    "path_to_save = os.path.join(report_dir, \"figures\", \"results\", \"0_baseline\", \"gradient_descent_optimal_vs_suboptimal\")\n",
    "save_plot(plt, path_to_save, extensions=[\"png\", \"pdf\"])\n",
    "plot = plt\n",
    "plot.show()"
   ]
  }
 ],
 "metadata": {
  "kernelspec": {
   "display_name": "bachelor-project",
   "language": "python",
   "name": "python3"
  },
  "language_info": {
   "codemirror_mode": {
    "name": "ipython",
    "version": 3
   },
   "file_extension": ".py",
   "mimetype": "text/x-python",
   "name": "python",
   "nbconvert_exporter": "python",
   "pygments_lexer": "ipython3",
   "version": "3.10.10"
  },
  "orig_nbformat": 4
 },
 "nbformat": 4,
 "nbformat_minor": 2
}
